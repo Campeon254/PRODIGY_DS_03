{
 "cells": [
  {
   "cell_type": "code",
   "execution_count": 1,
   "id": "43c36f98",
   "metadata": {},
   "outputs": [],
   "source": [
    "# Import libraries\n",
    "import pandas as pd\n",
    "from sklearn.model_selection import train_test_split, GridSearchCV\n",
    "from sklearn.tree import DecisionTreeClassifier, plot_tree\n",
    "from sklearn.metrics import classification_report, accuracy_score, roc_auc_score, precision_recall_curve, confusion_matrix\n",
    "from sklearn.compose import ColumnTransformer\n",
    "from sklearn.pipeline import Pipeline\n",
    "from sklearn.preprocessing import OneHotEncoder, StandardScaler\n",
    "import matplotlib.pyplot as plt\n",
    "from imblearn.over_sampling import SMOTE\n",
    "from imblearn.pipeline import Pipeline as ImbPipeline"
   ]
  },
  {
   "cell_type": "markdown",
   "id": "84f0369b",
   "metadata": {},
   "source": [
    "**Building a Decision Tree Classifier**"
   ]
  },
  {
   "cell_type": "code",
   "execution_count": 3,
   "id": "87ae099c",
   "metadata": {},
   "outputs": [
    {
     "name": "stdout",
     "output_type": "stream",
     "text": [
      "Categorical columns: ['job', 'marital', 'education', 'default', 'housing', 'loan', 'contact', 'month', 'poutcome', 'age_group']\n",
      "Numeric columns: ['age', 'balance', 'day_of_week', 'duration', 'campaign', 'pdays', 'previous']\n",
      "Fitting 5 folds for each of 180 candidates, totalling 900 fits\n",
      "Best parameters: {'classifier__class_weight': None, 'classifier__criterion': 'gini', 'classifier__max_depth': None, 'classifier__min_samples_leaf': 20, 'classifier__min_samples_split': 50}\n",
      "Best CV F1 Score: 0.7489117841384989\n",
      "Test Accuracy: 0.8771425411920822\n",
      "Classification Report:\n",
      "               precision    recall  f1-score   support\n",
      "\n",
      "          no       0.96      0.90      0.93      7985\n",
      "         yes       0.48      0.71      0.57      1058\n",
      "\n",
      "    accuracy                           0.88      9043\n",
      "   macro avg       0.72      0.80      0.75      9043\n",
      "weighted avg       0.90      0.88      0.89      9043\n",
      "\n",
      "Confusion Matrix:\n",
      " [[7181  804]\n",
      " [ 307  751]]\n",
      "Test ROC AUC: 0.8950639964110401\n"
     ]
    }
   ],
   "source": [
    "# Load data\n",
    "data = pd.read_csv(\"Data/cleaned_bank_data.csv\")\n",
    "\n",
    "# data (as pandas dataframes) \n",
    "X = data.drop(columns=['y', 'duration_group'])\n",
    "y = data['y']\n",
    "\n",
    "# Identify categorical and numeric columns\n",
    "categorical_cols = X.select_dtypes(include=['object']).columns.tolist()\n",
    "numeric_cols = X.select_dtypes(include=['int64', 'float64']).columns.tolist()\n",
    "\n",
    "# Display columns\n",
    "print(\"Categorical columns:\", categorical_cols)\n",
    "print(\"Numeric columns:\", numeric_cols)\n",
    "\n",
    "# Preprocessing pipelines: scale numeric, one-hot encode categorical\n",
    "preprocessor = ColumnTransformer(\n",
    "    transformers=[\n",
    "        ('num', StandardScaler(), numeric_cols),\n",
    "        ('cat', OneHotEncoder(handle_unknown='ignore'), categorical_cols)\n",
    "    ]\n",
    ")\n",
    "\n",
    "# Train-test split\n",
    "X_train, X_test, y_train, y_test = train_test_split(X, y, test_size=0.2, random_state=42, stratify=y)\n",
    "\n",
    "\n",
    "# Define model\n",
    "dt = DecisionTreeClassifier(random_state=42)\n",
    "\n",
    "# Hyperparameter grid\n",
    "parameter_grid = {\n",
    "    'classifier__criterion': ['gini', 'entropy'],\n",
    "    'classifier__max_depth': [3, 5, 7, 10, None],\n",
    "    'classifier__min_samples_leaf': [1, 5, 20],\n",
    "    'classifier__min_samples_split': [2, 10, 50],\n",
    "    'classifier__class_weight': [None, 'balanced']  \n",
    "}\n",
    "\n",
    "# Pipeline\n",
    "pipeline = ImbPipeline(steps=[\n",
    "    ('preprocessor', preprocessor),\n",
    "    (\"smote\", SMOTE(random_state=42)),\n",
    "    ('classifier', dt)\n",
    "])\n",
    "\n",
    "\n",
    "# Grid search with 5-fold CV\n",
    "grid_search = GridSearchCV(pipeline, \n",
    "                        parameter_grid, \n",
    "                        cv=5, n_jobs=-1, \n",
    "                        scoring='f1_macro', verbose=1)\n",
    "grid_search.fit(X_train, y_train)\n",
    "\n",
    "# Best params and score\n",
    "print(\"Best parameters:\", grid_search.best_params_)\n",
    "print(\"Best CV F1 Score:\", grid_search.best_score_)\n",
    "\n",
    "# Evaluate on test set\n",
    "best_model = grid_search.best_estimator_\n",
    "y_pred = best_model.predict(X_test)\n",
    "y_prob = best_model.predict_proba(X_test)[:, 1]\n",
    "precisions, recalls, thresholds = precision_recall_curve(y_test, y_prob, pos_label='yes')\n",
    "\n",
    "print(\"Test Accuracy:\", accuracy_score(y_test, y_pred))\n",
    "print(\"Classification Report:\\n\", classification_report(y_test, y_pred))\n",
    "print(\"Confusion Matrix:\\n\", confusion_matrix(y_test, y_pred))\n",
    "print(\"Test ROC AUC:\", roc_auc_score(y_test, y_prob))"
   ]
  },
  {
   "cell_type": "code",
   "execution_count": 7,
   "id": "2c1520ac",
   "metadata": {},
   "outputs": [
    {
     "name": "stdout",
     "output_type": "stream",
     "text": [
      "[LightGBM] [Info] Number of positive: 4231, number of negative: 31937\n",
      "[LightGBM] [Info] Auto-choosing col-wise multi-threading, the overhead of testing was 0.009675 seconds.\n",
      "You can set `force_col_wise=true` to remove the overhead.\n",
      "[LightGBM] [Info] Total Bins 1042\n",
      "[LightGBM] [Info] Number of data points in the train set: 36168, number of used features: 55\n",
      "[LightGBM] [Info] [binary:BoostFromScore]: pavg=0.116982 -> initscore=-2.021327\n",
      "[LightGBM] [Info] Start training from score -2.021327\n"
     ]
    },
    {
     "name": "stderr",
     "output_type": "stream",
     "text": [
      "c:\\Users\\admin\\AppData\\Local\\Programs\\Python\\Python313\\Lib\\site-packages\\sklearn\\utils\\validation.py:2739: UserWarning: X does not have valid feature names, but LGBMClassifier was fitted with feature names\n",
      "  warnings.warn(\n",
      "c:\\Users\\admin\\AppData\\Local\\Programs\\Python\\Python313\\Lib\\site-packages\\sklearn\\utils\\validation.py:2739: UserWarning: X does not have valid feature names, but LGBMClassifier was fitted with feature names\n",
      "  warnings.warn(\n"
     ]
    },
    {
     "name": "stdout",
     "output_type": "stream",
     "text": [
      "Accuracy: 0.8558000663496628\n",
      "ROC AUC: 0.9338273677133282\n",
      "\n",
      "Classification Report:\n",
      "               precision    recall  f1-score   support\n",
      "\n",
      "          no       0.98      0.85      0.91      7985\n",
      "         yes       0.44      0.88      0.59      1058\n",
      "\n",
      "    accuracy                           0.86      9043\n",
      "   macro avg       0.71      0.87      0.75      9043\n",
      "weighted avg       0.92      0.86      0.87      9043\n",
      "\n",
      "\n",
      "Confusion Matrix:\n",
      " [[6808 1177]\n",
      " [ 127  931]]\n"
     ]
    },
    {
     "data": {
      "image/png": "[encoded data removed]",
      "text/plain": [
       "<Figure size 800x600 with 1 Axes>"
      ]
     },
     "metadata": {},
     "output_type": "display_data"
    },
    {
     "name": "stdout",
     "output_type": "stream",
     "text": [
      "Threshold=0.3: Precision=0.374, Recall=0.940, F1=0.535\n",
      "Threshold=0.5: Precision=0.442, Recall=0.880, F1=0.588\n",
      "Threshold=0.7: Precision=0.530, Recall=0.764, F1=0.626\n"
     ]
    }
   ],
   "source": [
    "import lightgbm as lgb\n",
    "import matplotlib.pyplot as plt\n",
    "import numpy as np\n",
    "from sklearn.metrics import precision_recall_curve, f1_score, precision_score, recall_score\n",
    "\n",
    "# LightGBM classifier\n",
    "lgb_clf = lgb.LGBMClassifier(\n",
    "    objective=\"binary\",        # since y is yes/no\n",
    "    is_unbalance=True,         # handles class imbalance automatically\n",
    "    boosting_type=\"gbdt\",      # gradient boosting decision trees\n",
    "    n_estimators=200,          # number of boosting iterations (still light)\n",
    "    learning_rate=0.05,        # smaller step size\n",
    "    max_depth=-1,              # no limit, let it grow\n",
    "    num_leaves=31,             # controls complexity\n",
    "    random_state=42\n",
    ")\n",
    "\n",
    "# Create a pipeline with preprocessor and classifier\n",
    "lgb_pipeline = Pipeline(steps=[\n",
    "    ('preprocessor', preprocessor),\n",
    "    ('classifier', lgb_clf)\n",
    "])\n",
    "\n",
    "\n",
    "# Fit model\n",
    "lgb_pipeline.fit(X_train, y_train)\n",
    "\n",
    "# Predictions\n",
    "y_pred = lgb_pipeline.predict(X_test)\n",
    "y_proba = lgb_pipeline.predict_proba(X_test)[:, 1]\n",
    "\n",
    "# Evaluation\n",
    "print(\"Accuracy:\", accuracy_score(y_test, y_pred))\n",
    "print(\"ROC AUC:\", roc_auc_score(y_test.map({'no':0, 'yes':1}), y_proba))\n",
    "print(\"\\nClassification Report:\\n\", classification_report(y_test, y_pred))\n",
    "print(\"\\nConfusion Matrix:\\n\", confusion_matrix(y_test, y_pred))\n",
    "\n",
    "# Preccision Recall curve\n",
    "precision, recall, thresholds = precision_recall_curve(y_test.map({\"no\": 0, \"yes\": 1}), y_proba)\n",
    "\n",
    "plt.figure(figsize=(8,6))\n",
    "plt.plot(recall, precision, marker='.', label='LightGBM')\n",
    "plt.xlabel(\"Recall\")\n",
    "plt.ylabel(\"Precision\")\n",
    "plt.title(\"Precision-Recall Curve\")\n",
    "plt.legend()\n",
    "plt.grid(True)\n",
    "plt.show()\n",
    "\n",
    "# Thresholds tuning\n",
    "def evaluate_threshold(threshold):\n",
    "    y_pred_adj = (y_proba >= threshold).astype(int)\n",
    "    prec = precision_score(y_test.map({\"no\": 0, \"yes\": 1}), y_pred_adj)\n",
    "    rec = recall_score(y_test.map({\"no\": 0, \"yes\": 1}), y_pred_adj)\n",
    "    f1 = f1_score(y_test.map({\"no\": 0, \"yes\": 1}), y_pred_adj)\n",
    "    return prec, rec, f1\n",
    "\n",
    "for t in [0.3, 0.5, 0.7]:\n",
    "    prec, rec, f1 = evaluate_threshold(t)\n",
    "    print(f\"Threshold={t}: Precision={prec:.3f}, Recall={rec:.3f}, F1={f1:.3f}\")"
   ]
  }
 ],
 "metadata": {
  "kernelspec": {
   "display_name": "Python 3",
   "language": "python",
   "name": "python3"
  },
  "language_info": {
   "codemirror_mode": {
    "name": "ipython",
    "version": 3
   },
   "file_extension": ".py",
   "mimetype": "text/x-python",
   "name": "python",
   "nbconvert_exporter": "python",
   "pygments_lexer": "ipython3",
   "version": "3.13.5"
  }
 },
 "nbformat": 4,
 "nbformat_minor": 5
}
