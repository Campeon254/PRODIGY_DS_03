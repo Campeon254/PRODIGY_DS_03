{
 "cells": [
  {
   "cell_type": "markdown",
   "id": "40710349",
   "metadata": {},
   "source": [
    "In this notebook, we will build a decision tree classifier to predict whether a customer will purchase a product or service based on their demographic and behavioral data.\n",
    "\n",
    "We will use a dataset such as the Bank Marketing dataset from the UCI Machine Learning Repository.\n",
    "\n",
    "**Loading Libraries**"
   ]
  },
  {
   "cell_type": "code",
   "execution_count": 38,
   "id": "19bdcf3c",
   "metadata": {},
   "outputs": [
    {
     "data": {
      "application/vnd.microsoft.datawrangler.viewer.v0+json": {
       "columns": [
        {
         "name": "index",
         "rawType": "int64",
         "type": "integer"
        },
        {
         "name": "age",
         "rawType": "int64",
         "type": "integer"
        },
        {
         "name": "job",
         "rawType": "object",
         "type": "unknown"
        },
        {
         "name": "marital",
         "rawType": "object",
         "type": "string"
        },
        {
         "name": "education",
         "rawType": "object",
         "type": "unknown"
        },
        {
         "name": "default",
         "rawType": "object",
         "type": "string"
        },
        {
         "name": "balance",
         "rawType": "int64",
         "type": "integer"
        },
        {
         "name": "housing",
         "rawType": "object",
         "type": "string"
        },
        {
         "name": "loan",
         "rawType": "object",
         "type": "string"
        },
        {
         "name": "contact",
         "rawType": "object",
         "type": "unknown"
        },
        {
         "name": "day_of_week",
         "rawType": "int64",
         "type": "integer"
        },
        {
         "name": "month",
         "rawType": "object",
         "type": "string"
        },
        {
         "name": "duration",
         "rawType": "int64",
         "type": "integer"
        },
        {
         "name": "campaign",
         "rawType": "int64",
         "type": "integer"
        },
        {
         "name": "pdays",
         "rawType": "int64",
         "type": "integer"
        },
        {
         "name": "previous",
         "rawType": "int64",
         "type": "integer"
        },
        {
         "name": "poutcome",
         "rawType": "object",
         "type": "unknown"
        },
        {
         "name": "y",
         "rawType": "object",
         "type": "string"
        }
       ],
       "ref": "c4651504-7223-4053-bdaf-f55327f8d4d7",
       "rows": [
        [
         "0",
         "58",
         "management",
         "married",
         "tertiary",
         "no",
         "2143",
         "yes",
         "no",
         null,
         "5",
         "may",
         "261",
         "1",
         "-1",
         "0",
         null,
         "no"
        ],
        [
         "1",
         "44",
         "technician",
         "single",
         "secondary",
         "no",
         "29",
         "yes",
         "no",
         null,
         "5",
         "may",
         "151",
         "1",
         "-1",
         "0",
         null,
         "no"
        ],
        [
         "2",
         "33",
         "entrepreneur",
         "married",
         "secondary",
         "no",
         "2",
         "yes",
         "yes",
         null,
         "5",
         "may",
         "76",
         "1",
         "-1",
         "0",
         null,
         "no"
        ],
        [
         "3",
         "47",
         "blue-collar",
         "married",
         null,
         "no",
         "1506",
         "yes",
         "no",
         null,
         "5",
         "may",
         "92",
         "1",
         "-1",
         "0",
         null,
         "no"
        ],
        [
         "4",
         "33",
         null,
         "single",
         null,
         "no",
         "1",
         "no",
         "no",
         null,
         "5",
         "may",
         "198",
         "1",
         "-1",
         "0",
         null,
         "no"
        ]
       ],
       "shape": {
        "columns": 17,
        "rows": 5
       }
      },
      "text/html": [
       "<div>\n",
       "<style scoped>\n",
       "    .dataframe tbody tr th:only-of-type {\n",
       "        vertical-align: middle;\n",
       "    }\n",
       "\n",
       "    .dataframe tbody tr th {\n",
       "        vertical-align: top;\n",
       "    }\n",
       "\n",
       "    .dataframe thead th {\n",
       "        text-align: right;\n",
       "    }\n",
       "</style>\n",
       "<table border=\"1\" class=\"dataframe\">\n",
       "  <thead>\n",
       "    <tr style=\"text-align: right;\">\n",
       "      <th></th>\n",
       "      <th>age</th>\n",
       "      <th>job</th>\n",
       "      <th>marital</th>\n",
       "      <th>education</th>\n",
       "      <th>default</th>\n",
       "      <th>balance</th>\n",
       "      <th>housing</th>\n",
       "      <th>loan</th>\n",
       "      <th>contact</th>\n",
       "      <th>day_of_week</th>\n",
       "      <th>month</th>\n",
       "      <th>duration</th>\n",
       "      <th>campaign</th>\n",
       "      <th>pdays</th>\n",
       "      <th>previous</th>\n",
       "      <th>poutcome</th>\n",
       "      <th>y</th>\n",
       "    </tr>\n",
       "  </thead>\n",
       "  <tbody>\n",
       "    <tr>\n",
       "      <th>0</th>\n",
       "      <td>58</td>\n",
       "      <td>management</td>\n",
       "      <td>married</td>\n",
       "      <td>tertiary</td>\n",
       "      <td>no</td>\n",
       "      <td>2143</td>\n",
       "      <td>yes</td>\n",
       "      <td>no</td>\n",
       "      <td>NaN</td>\n",
       "      <td>5</td>\n",
       "      <td>may</td>\n",
       "      <td>261</td>\n",
       "      <td>1</td>\n",
       "      <td>-1</td>\n",
       "      <td>0</td>\n",
       "      <td>NaN</td>\n",
       "      <td>no</td>\n",
       "    </tr>\n",
       "    <tr>\n",
       "      <th>1</th>\n",
       "      <td>44</td>\n",
       "      <td>technician</td>\n",
       "      <td>single</td>\n",
       "      <td>secondary</td>\n",
       "      <td>no</td>\n",
       "      <td>29</td>\n",
       "      <td>yes</td>\n",
       "      <td>no</td>\n",
       "      <td>NaN</td>\n",
       "      <td>5</td>\n",
       "      <td>may</td>\n",
       "      <td>151</td>\n",
       "      <td>1</td>\n",
       "      <td>-1</td>\n",
       "      <td>0</td>\n",
       "      <td>NaN</td>\n",
       "      <td>no</td>\n",
       "    </tr>\n",
       "    <tr>\n",
       "      <th>2</th>\n",
       "      <td>33</td>\n",
       "      <td>entrepreneur</td>\n",
       "      <td>married</td>\n",
       "      <td>secondary</td>\n",
       "      <td>no</td>\n",
       "      <td>2</td>\n",
       "      <td>yes</td>\n",
       "      <td>yes</td>\n",
       "      <td>NaN</td>\n",
       "      <td>5</td>\n",
       "      <td>may</td>\n",
       "      <td>76</td>\n",
       "      <td>1</td>\n",
       "      <td>-1</td>\n",
       "      <td>0</td>\n",
       "      <td>NaN</td>\n",
       "      <td>no</td>\n",
       "    </tr>\n",
       "    <tr>\n",
       "      <th>3</th>\n",
       "      <td>47</td>\n",
       "      <td>blue-collar</td>\n",
       "      <td>married</td>\n",
       "      <td>NaN</td>\n",
       "      <td>no</td>\n",
       "      <td>1506</td>\n",
       "      <td>yes</td>\n",
       "      <td>no</td>\n",
       "      <td>NaN</td>\n",
       "      <td>5</td>\n",
       "      <td>may</td>\n",
       "      <td>92</td>\n",
       "      <td>1</td>\n",
       "      <td>-1</td>\n",
       "      <td>0</td>\n",
       "      <td>NaN</td>\n",
       "      <td>no</td>\n",
       "    </tr>\n",
       "    <tr>\n",
       "      <th>4</th>\n",
       "      <td>33</td>\n",
       "      <td>NaN</td>\n",
       "      <td>single</td>\n",
       "      <td>NaN</td>\n",
       "      <td>no</td>\n",
       "      <td>1</td>\n",
       "      <td>no</td>\n",
       "      <td>no</td>\n",
       "      <td>NaN</td>\n",
       "      <td>5</td>\n",
       "      <td>may</td>\n",
       "      <td>198</td>\n",
       "      <td>1</td>\n",
       "      <td>-1</td>\n",
       "      <td>0</td>\n",
       "      <td>NaN</td>\n",
       "      <td>no</td>\n",
       "    </tr>\n",
       "  </tbody>\n",
       "</table>\n",
       "</div>"
      ],
      "text/plain": [
       "   age           job  marital  education default  balance housing loan  \\\n",
       "0   58    management  married   tertiary      no     2143     yes   no   \n",
       "1   44    technician   single  secondary      no       29     yes   no   \n",
       "2   33  entrepreneur  married  secondary      no        2     yes  yes   \n",
       "3   47   blue-collar  married        NaN      no     1506     yes   no   \n",
       "4   33           NaN   single        NaN      no        1      no   no   \n",
       "\n",
       "  contact  day_of_week month  duration  campaign  pdays  previous poutcome   y  \n",
       "0     NaN            5   may       261         1     -1         0      NaN  no  \n",
       "1     NaN            5   may       151         1     -1         0      NaN  no  \n",
       "2     NaN            5   may        76         1     -1         0      NaN  no  \n",
       "3     NaN            5   may        92         1     -1         0      NaN  no  \n",
       "4     NaN            5   may       198         1     -1         0      NaN  no  "
      ]
     },
     "execution_count": 38,
     "metadata": {},
     "output_type": "execute_result"
    }
   ],
   "source": [
    "# Import Libraries\n",
    "import numpy as np\n",
    "import pandas as pd\n",
    "import matplotlib.pyplot as plt\n",
    "from scipy.stats import zscore\n",
    "from ucimlrepo import fetch_ucirepo \n",
    "import warnings\n",
    "warnings.filterwarnings('ignore')\n",
    "\n",
    "# Import dataset\n",
    "bank_marketing = fetch_ucirepo(id=222) \n",
    "\n",
    "# data (as pandas dataframes) \n",
    "X = bank_marketing.data.features \n",
    "y = bank_marketing.data.targets \n",
    "\n",
    "# Load dataset\n",
    "data = pd.concat([X, y], axis=1)\n",
    "data.head()"
   ]
  },
  {
   "cell_type": "markdown",
   "id": "c40c1869",
   "metadata": {},
   "source": [
    "**Checking Data types**"
   ]
  },
  {
   "cell_type": "code",
   "execution_count": 39,
   "id": "58f17387",
   "metadata": {},
   "outputs": [
    {
     "data": {
      "application/vnd.microsoft.datawrangler.viewer.v0+json": {
       "columns": [
        {
         "name": "index",
         "rawType": "object",
         "type": "string"
        },
        {
         "name": "0",
         "rawType": "object",
         "type": "unknown"
        }
       ],
       "ref": "3f8053cb-ca4a-43f5-9060-17167f3891fc",
       "rows": [
        [
         "age",
         "int64"
        ],
        [
         "job",
         "object"
        ],
        [
         "marital",
         "object"
        ],
        [
         "education",
         "object"
        ],
        [
         "default",
         "object"
        ],
        [
         "balance",
         "int64"
        ],
        [
         "housing",
         "object"
        ],
        [
         "loan",
         "object"
        ],
        [
         "contact",
         "object"
        ],
        [
         "day_of_week",
         "int64"
        ],
        [
         "month",
         "object"
        ],
        [
         "duration",
         "int64"
        ],
        [
         "campaign",
         "int64"
        ],
        [
         "pdays",
         "int64"
        ],
        [
         "previous",
         "int64"
        ],
        [
         "poutcome",
         "object"
        ],
        [
         "y",
         "object"
        ]
       ],
       "shape": {
        "columns": 1,
        "rows": 17
       }
      },
      "text/plain": [
       "age             int64\n",
       "job            object\n",
       "marital        object\n",
       "education      object\n",
       "default        object\n",
       "balance         int64\n",
       "housing        object\n",
       "loan           object\n",
       "contact        object\n",
       "day_of_week     int64\n",
       "month          object\n",
       "duration        int64\n",
       "campaign        int64\n",
       "pdays           int64\n",
       "previous        int64\n",
       "poutcome       object\n",
       "y              object\n",
       "dtype: object"
      ]
     },
     "execution_count": 39,
     "metadata": {},
     "output_type": "execute_result"
    }
   ],
   "source": [
    "data.dtypes"
   ]
  },
  {
   "cell_type": "markdown",
   "id": "3ad2334c",
   "metadata": {},
   "source": [
    "Input variables:\n",
    "\n",
    "   **bank client data:**\n",
    "   - age (numeric)\n",
    "   - job : type of job (categorical: \"admin.\",\"unknown\",\"unemployed\",\"management\",\"housemaid\",\"entrepreneur\",\"student\",\n",
    "                                       \"blue-collar\",\"self-employed\",\"retired\",\"technician\",\"services\") \n",
    "   - marital : marital status (categorical: \"married\",\"divorced\",\"single\"; note: \"divorced\" means divorced or widowed)\n",
    "   - education (categorical: \"unknown\",\"secondary\",\"primary\",\"tertiary\")\n",
    "   - default: has credit in default? (binary: \"yes\",\"no\")\n",
    "   - balance: average yearly balance, in euros (numeric) \n",
    "   - housing: has housing loan? (binary: \"yes\",\"no\")\n",
    "   - loan: has personal loan? (binary: \"yes\",\"no\")\n",
    "   **related with the last contact of the current campaign:**\n",
    "   - contact: contact communication type (categorical: \"unknown\",\"telephone\",\"cellular\") \n",
    "   - day: last contact day of the month (numeric)\n",
    "   - month: last contact month of year (categorical: \"jan\", \"feb\", \"mar\", ..., \"nov\", \"dec\")\n",
    "   - duration: last contact duration, in seconds (numeric)\n",
    "   **other attributes:**\n",
    "   - campaign: number of contacts performed during this campaign and for this client (numeric, includes last contact)\n",
    "   - pdays: number of days that passed by after the client was last contacted from a previous campaign (numeric, -1 means client was not previously contacted)\n",
    "   - previous: number of contacts performed before this campaign and for this client (numeric)\n",
    "   - poutcome: outcome of the previous marketing campaign (categorical: \"unknown\",\"other\",\"failure\",\"success\")\n",
    "\n",
    "Output variable (desired target):\n",
    "  - y - has the client subscribed a term deposit? (binary: \"yes\",\"no\")"
   ]
  },
  {
   "cell_type": "markdown",
   "id": "2c4f4ca9",
   "metadata": {},
   "source": [
    "## Data Cleaning"
   ]
  },
  {
   "cell_type": "code",
   "execution_count": 40,
   "id": "8f93712f",
   "metadata": {},
   "outputs": [
    {
     "name": "stdout",
     "output_type": "stream",
     "text": [
      "Missing values in each column:\n",
      "job            288\n",
      "education     1857\n",
      "contact      13020\n",
      "poutcome     36959\n",
      "dtype: int64\n",
      "Missing values in each column:\n",
      "Series([], dtype: int64)\n"
     ]
    },
    {
     "data": {
      "application/vnd.microsoft.datawrangler.viewer.v0+json": {
       "columns": [
        {
         "name": "index",
         "rawType": "int64",
         "type": "integer"
        },
        {
         "name": "age",
         "rawType": "int64",
         "type": "integer"
        },
        {
         "name": "job",
         "rawType": "object",
         "type": "string"
        },
        {
         "name": "marital",
         "rawType": "object",
         "type": "string"
        },
        {
         "name": "education",
         "rawType": "object",
         "type": "string"
        },
        {
         "name": "default",
         "rawType": "object",
         "type": "string"
        },
        {
         "name": "balance",
         "rawType": "int64",
         "type": "integer"
        },
        {
         "name": "housing",
         "rawType": "object",
         "type": "string"
        },
        {
         "name": "loan",
         "rawType": "object",
         "type": "string"
        },
        {
         "name": "contact",
         "rawType": "object",
         "type": "string"
        },
        {
         "name": "day_of_week",
         "rawType": "int64",
         "type": "integer"
        },
        {
         "name": "month",
         "rawType": "object",
         "type": "string"
        },
        {
         "name": "duration",
         "rawType": "int64",
         "type": "integer"
        },
        {
         "name": "campaign",
         "rawType": "int64",
         "type": "integer"
        },
        {
         "name": "pdays",
         "rawType": "int64",
         "type": "integer"
        },
        {
         "name": "previous",
         "rawType": "int64",
         "type": "integer"
        },
        {
         "name": "poutcome",
         "rawType": "object",
         "type": "string"
        },
        {
         "name": "y",
         "rawType": "object",
         "type": "string"
        }
       ],
       "ref": "4eaee07c-bd51-4338-9947-1b1ccb0c9b46",
       "rows": [
        [
         "0",
         "58",
         "management",
         "married",
         "tertiary",
         "no",
         "2143",
         "yes",
         "no",
         "unknown",
         "5",
         "may",
         "261",
         "1",
         "-1",
         "0",
         "unknown",
         "no"
        ],
        [
         "1",
         "44",
         "technician",
         "single",
         "secondary",
         "no",
         "29",
         "yes",
         "no",
         "unknown",
         "5",
         "may",
         "151",
         "1",
         "-1",
         "0",
         "unknown",
         "no"
        ],
        [
         "2",
         "33",
         "entrepreneur",
         "married",
         "secondary",
         "no",
         "2",
         "yes",
         "yes",
         "unknown",
         "5",
         "may",
         "76",
         "1",
         "-1",
         "0",
         "unknown",
         "no"
        ],
        [
         "3",
         "47",
         "blue-collar",
         "married",
         "unknown",
         "no",
         "1506",
         "yes",
         "no",
         "unknown",
         "5",
         "may",
         "92",
         "1",
         "-1",
         "0",
         "unknown",
         "no"
        ],
        [
         "4",
         "33",
         "unknown",
         "single",
         "unknown",
         "no",
         "1",
         "no",
         "no",
         "unknown",
         "5",
         "may",
         "198",
         "1",
         "-1",
         "0",
         "unknown",
         "no"
        ]
       ],
       "shape": {
        "columns": 17,
        "rows": 5
       }
      },
      "text/html": [
       "<div>\n",
       "<style scoped>\n",
       "    .dataframe tbody tr th:only-of-type {\n",
       "        vertical-align: middle;\n",
       "    }\n",
       "\n",
       "    .dataframe tbody tr th {\n",
       "        vertical-align: top;\n",
       "    }\n",
       "\n",
       "    .dataframe thead th {\n",
       "        text-align: right;\n",
       "    }\n",
       "</style>\n",
       "<table border=\"1\" class=\"dataframe\">\n",
       "  <thead>\n",
       "    <tr style=\"text-align: right;\">\n",
       "      <th></th>\n",
       "      <th>age</th>\n",
       "      <th>job</th>\n",
       "      <th>marital</th>\n",
       "      <th>education</th>\n",
       "      <th>default</th>\n",
       "      <th>balance</th>\n",
       "      <th>housing</th>\n",
       "      <th>loan</th>\n",
       "      <th>contact</th>\n",
       "      <th>day_of_week</th>\n",
       "      <th>month</th>\n",
       "      <th>duration</th>\n",
       "      <th>campaign</th>\n",
       "      <th>pdays</th>\n",
       "      <th>previous</th>\n",
       "      <th>poutcome</th>\n",
       "      <th>y</th>\n",
       "    </tr>\n",
       "  </thead>\n",
       "  <tbody>\n",
       "    <tr>\n",
       "      <th>0</th>\n",
       "      <td>58</td>\n",
       "      <td>management</td>\n",
       "      <td>married</td>\n",
       "      <td>tertiary</td>\n",
       "      <td>no</td>\n",
       "      <td>2143</td>\n",
       "      <td>yes</td>\n",
       "      <td>no</td>\n",
       "      <td>unknown</td>\n",
       "      <td>5</td>\n",
       "      <td>may</td>\n",
       "      <td>261</td>\n",
       "      <td>1</td>\n",
       "      <td>-1</td>\n",
       "      <td>0</td>\n",
       "      <td>unknown</td>\n",
       "      <td>no</td>\n",
       "    </tr>\n",
       "    <tr>\n",
       "      <th>1</th>\n",
       "      <td>44</td>\n",
       "      <td>technician</td>\n",
       "      <td>single</td>\n",
       "      <td>secondary</td>\n",
       "      <td>no</td>\n",
       "      <td>29</td>\n",
       "      <td>yes</td>\n",
       "      <td>no</td>\n",
       "      <td>unknown</td>\n",
       "      <td>5</td>\n",
       "      <td>may</td>\n",
       "      <td>151</td>\n",
       "      <td>1</td>\n",
       "      <td>-1</td>\n",
       "      <td>0</td>\n",
       "      <td>unknown</td>\n",
       "      <td>no</td>\n",
       "    </tr>\n",
       "    <tr>\n",
       "      <th>2</th>\n",
       "      <td>33</td>\n",
       "      <td>entrepreneur</td>\n",
       "      <td>married</td>\n",
       "      <td>secondary</td>\n",
       "      <td>no</td>\n",
       "      <td>2</td>\n",
       "      <td>yes</td>\n",
       "      <td>yes</td>\n",
       "      <td>unknown</td>\n",
       "      <td>5</td>\n",
       "      <td>may</td>\n",
       "      <td>76</td>\n",
       "      <td>1</td>\n",
       "      <td>-1</td>\n",
       "      <td>0</td>\n",
       "      <td>unknown</td>\n",
       "      <td>no</td>\n",
       "    </tr>\n",
       "    <tr>\n",
       "      <th>3</th>\n",
       "      <td>47</td>\n",
       "      <td>blue-collar</td>\n",
       "      <td>married</td>\n",
       "      <td>unknown</td>\n",
       "      <td>no</td>\n",
       "      <td>1506</td>\n",
       "      <td>yes</td>\n",
       "      <td>no</td>\n",
       "      <td>unknown</td>\n",
       "      <td>5</td>\n",
       "      <td>may</td>\n",
       "      <td>92</td>\n",
       "      <td>1</td>\n",
       "      <td>-1</td>\n",
       "      <td>0</td>\n",
       "      <td>unknown</td>\n",
       "      <td>no</td>\n",
       "    </tr>\n",
       "    <tr>\n",
       "      <th>4</th>\n",
       "      <td>33</td>\n",
       "      <td>unknown</td>\n",
       "      <td>single</td>\n",
       "      <td>unknown</td>\n",
       "      <td>no</td>\n",
       "      <td>1</td>\n",
       "      <td>no</td>\n",
       "      <td>no</td>\n",
       "      <td>unknown</td>\n",
       "      <td>5</td>\n",
       "      <td>may</td>\n",
       "      <td>198</td>\n",
       "      <td>1</td>\n",
       "      <td>-1</td>\n",
       "      <td>0</td>\n",
       "      <td>unknown</td>\n",
       "      <td>no</td>\n",
       "    </tr>\n",
       "  </tbody>\n",
       "</table>\n",
       "</div>"
      ],
      "text/plain": [
       "   age           job  marital  education default  balance housing loan  \\\n",
       "0   58    management  married   tertiary      no     2143     yes   no   \n",
       "1   44    technician   single  secondary      no       29     yes   no   \n",
       "2   33  entrepreneur  married  secondary      no        2     yes  yes   \n",
       "3   47   blue-collar  married    unknown      no     1506     yes   no   \n",
       "4   33       unknown   single    unknown      no        1      no   no   \n",
       "\n",
       "   contact  day_of_week month  duration  campaign  pdays  previous poutcome  \\\n",
       "0  unknown            5   may       261         1     -1         0  unknown   \n",
       "1  unknown            5   may       151         1     -1         0  unknown   \n",
       "2  unknown            5   may        76         1     -1         0  unknown   \n",
       "3  unknown            5   may        92         1     -1         0  unknown   \n",
       "4  unknown            5   may       198         1     -1         0  unknown   \n",
       "\n",
       "    y  \n",
       "0  no  \n",
       "1  no  \n",
       "2  no  \n",
       "3  no  \n",
       "4  no  "
      ]
     },
     "execution_count": 40,
     "metadata": {},
     "output_type": "execute_result"
    }
   ],
   "source": [
    "# Check missing values\n",
    "missing_values = data.isnull().sum()\n",
    "print(f\"Missing values in each column:\\n{missing_values[missing_values > 0]}\")\n",
    "\n",
    "# Fill missing job values with unknown\n",
    "data['job'].fillna('unknown', inplace=True)\n",
    "data['education'].fillna('unknown', inplace=True)\n",
    "data['poutcome'].fillna('unknown', inplace=True)\n",
    "data['contact'].fillna('unknown', inplace=True)\n",
    "\n",
    "# Check missing values\n",
    "missing_values = data.isnull().sum()\n",
    "print(f\"Missing values in each column:\\n{missing_values[missing_values > 0]}\")\n",
    "data.head()"
   ]
  },
  {
   "cell_type": "markdown",
   "id": "7b15336d",
   "metadata": {},
   "source": [
    "**Check for outliers using Z-score**"
   ]
  },
  {
   "cell_type": "code",
   "execution_count": 41,
   "id": "63a9b603",
   "metadata": {},
   "outputs": [
    {
     "name": "stdout",
     "output_type": "stream",
     "text": [
      "Number of outliers in each numerical column:\n",
      "age             381\n",
      "balance         745\n",
      "day_of_week       0\n",
      "duration        963\n",
      "campaign        840\n",
      "pdays          1723\n",
      "previous        582\n",
      "dtype: int64\n",
      "\n",
      "Total number of rows with at least one outlier: 5002\n"
     ]
    }
   ],
   "source": [
    "# Select only numerical columns for Z-score calculation\n",
    "numerical_cols = data.select_dtypes(include=np.number).columns\n",
    "\n",
    "# Calculate Z-scores for numerical columns\n",
    "z_scores = data[numerical_cols].apply(zscore)\n",
    "\n",
    "# Define a threshold for identifying outliers\n",
    "threshold = 3\n",
    "\n",
    "# Find outliers\n",
    "outliers = (np.abs(z_scores) > threshold)\n",
    "\n",
    "print(\"Number of outliers in each numerical column:\")\n",
    "print(outliers.sum())\n",
    "\n",
    "# Display rows with outliers\n",
    "outlier_rows = data[outliers.any(axis=1)]\n",
    "print(f\"\\nTotal number of rows with at least one outlier: {len(outlier_rows)}\")\n",
    "\n",
    "# Save the cleaned data\n",
    "data[~outliers.any(axis=1)].to_csv(\"bank_marketing_cleaned.csv\", index=False)"
   ]
  },
  {
   "cell_type": "markdown",
   "id": "bb20402d",
   "metadata": {},
   "source": [
    "Since decision trees are not sensitive to the magnitude of values like other algorithms, I will leave the outliers in the dataset. The outliers may represent important variations in customer behavior."
   ]
  },
  {
   "cell_type": "code",
   "execution_count": 42,
   "id": "658617f6",
   "metadata": {},
   "outputs": [
    {
     "data": {
      "application/vnd.microsoft.datawrangler.viewer.v0+json": {
       "columns": [
        {
         "name": "index",
         "rawType": "int64",
         "type": "integer"
        },
        {
         "name": "age",
         "rawType": "int64",
         "type": "integer"
        },
        {
         "name": "job",
         "rawType": "object",
         "type": "string"
        },
        {
         "name": "marital",
         "rawType": "object",
         "type": "string"
        },
        {
         "name": "education",
         "rawType": "object",
         "type": "string"
        },
        {
         "name": "default",
         "rawType": "object",
         "type": "string"
        },
        {
         "name": "balance",
         "rawType": "int64",
         "type": "integer"
        },
        {
         "name": "housing",
         "rawType": "object",
         "type": "string"
        },
        {
         "name": "loan",
         "rawType": "object",
         "type": "string"
        },
        {
         "name": "contact",
         "rawType": "object",
         "type": "string"
        },
        {
         "name": "day_of_week",
         "rawType": "int64",
         "type": "integer"
        },
        {
         "name": "month",
         "rawType": "object",
         "type": "string"
        },
        {
         "name": "duration",
         "rawType": "int64",
         "type": "integer"
        },
        {
         "name": "campaign",
         "rawType": "int64",
         "type": "integer"
        },
        {
         "name": "pdays",
         "rawType": "int64",
         "type": "integer"
        },
        {
         "name": "previous",
         "rawType": "int64",
         "type": "integer"
        },
        {
         "name": "poutcome",
         "rawType": "object",
         "type": "string"
        },
        {
         "name": "y",
         "rawType": "object",
         "type": "string"
        },
        {
         "name": "age_group",
         "rawType": "category",
         "type": "unknown"
        }
       ],
       "ref": "aefc6145-8b05-4e4d-8814-9972217dfa41",
       "rows": [
        [
         "0",
         "58",
         "management",
         "married",
         "tertiary",
         "no",
         "2143",
         "yes",
         "no",
         "unknown",
         "5",
         "may",
         "261",
         "1",
         "-1",
         "0",
         "unknown",
         "no",
         "Middle Aged(46-60)"
        ],
        [
         "1",
         "44",
         "technician",
         "single",
         "secondary",
         "no",
         "29",
         "yes",
         "no",
         "unknown",
         "5",
         "may",
         "151",
         "1",
         "-1",
         "0",
         "unknown",
         "no",
         "Adults(31-45)"
        ],
        [
         "2",
         "33",
         "entrepreneur",
         "married",
         "secondary",
         "no",
         "2",
         "yes",
         "yes",
         "unknown",
         "5",
         "may",
         "76",
         "1",
         "-1",
         "0",
         "unknown",
         "no",
         "Adults(31-45)"
        ],
        [
         "3",
         "47",
         "blue-collar",
         "married",
         "unknown",
         "no",
         "1506",
         "yes",
         "no",
         "unknown",
         "5",
         "may",
         "92",
         "1",
         "-1",
         "0",
         "unknown",
         "no",
         "Middle Aged(46-60)"
        ],
        [
         "4",
         "33",
         "unknown",
         "single",
         "unknown",
         "no",
         "1",
         "no",
         "no",
         "unknown",
         "5",
         "may",
         "198",
         "1",
         "-1",
         "0",
         "unknown",
         "no",
         "Adults(31-45)"
        ]
       ],
       "shape": {
        "columns": 18,
        "rows": 5
       }
      },
      "text/html": [
       "<div>\n",
       "<style scoped>\n",
       "    .dataframe tbody tr th:only-of-type {\n",
       "        vertical-align: middle;\n",
       "    }\n",
       "\n",
       "    .dataframe tbody tr th {\n",
       "        vertical-align: top;\n",
       "    }\n",
       "\n",
       "    .dataframe thead th {\n",
       "        text-align: right;\n",
       "    }\n",
       "</style>\n",
       "<table border=\"1\" class=\"dataframe\">\n",
       "  <thead>\n",
       "    <tr style=\"text-align: right;\">\n",
       "      <th></th>\n",
       "      <th>age</th>\n",
       "      <th>job</th>\n",
       "      <th>marital</th>\n",
       "      <th>education</th>\n",
       "      <th>default</th>\n",
       "      <th>balance</th>\n",
       "      <th>housing</th>\n",
       "      <th>loan</th>\n",
       "      <th>contact</th>\n",
       "      <th>day_of_week</th>\n",
       "      <th>month</th>\n",
       "      <th>duration</th>\n",
       "      <th>campaign</th>\n",
       "      <th>pdays</th>\n",
       "      <th>previous</th>\n",
       "      <th>poutcome</th>\n",
       "      <th>y</th>\n",
       "      <th>age_group</th>\n",
       "    </tr>\n",
       "  </thead>\n",
       "  <tbody>\n",
       "    <tr>\n",
       "      <th>0</th>\n",
       "      <td>58</td>\n",
       "      <td>management</td>\n",
       "      <td>married</td>\n",
       "      <td>tertiary</td>\n",
       "      <td>no</td>\n",
       "      <td>2143</td>\n",
       "      <td>yes</td>\n",
       "      <td>no</td>\n",
       "      <td>unknown</td>\n",
       "      <td>5</td>\n",
       "      <td>may</td>\n",
       "      <td>261</td>\n",
       "      <td>1</td>\n",
       "      <td>-1</td>\n",
       "      <td>0</td>\n",
       "      <td>unknown</td>\n",
       "      <td>no</td>\n",
       "      <td>Middle Aged(46-60)</td>\n",
       "    </tr>\n",
       "    <tr>\n",
       "      <th>1</th>\n",
       "      <td>44</td>\n",
       "      <td>technician</td>\n",
       "      <td>single</td>\n",
       "      <td>secondary</td>\n",
       "      <td>no</td>\n",
       "      <td>29</td>\n",
       "      <td>yes</td>\n",
       "      <td>no</td>\n",
       "      <td>unknown</td>\n",
       "      <td>5</td>\n",
       "      <td>may</td>\n",
       "      <td>151</td>\n",
       "      <td>1</td>\n",
       "      <td>-1</td>\n",
       "      <td>0</td>\n",
       "      <td>unknown</td>\n",
       "      <td>no</td>\n",
       "      <td>Adults(31-45)</td>\n",
       "    </tr>\n",
       "    <tr>\n",
       "      <th>2</th>\n",
       "      <td>33</td>\n",
       "      <td>entrepreneur</td>\n",
       "      <td>married</td>\n",
       "      <td>secondary</td>\n",
       "      <td>no</td>\n",
       "      <td>2</td>\n",
       "      <td>yes</td>\n",
       "      <td>yes</td>\n",
       "      <td>unknown</td>\n",
       "      <td>5</td>\n",
       "      <td>may</td>\n",
       "      <td>76</td>\n",
       "      <td>1</td>\n",
       "      <td>-1</td>\n",
       "      <td>0</td>\n",
       "      <td>unknown</td>\n",
       "      <td>no</td>\n",
       "      <td>Adults(31-45)</td>\n",
       "    </tr>\n",
       "    <tr>\n",
       "      <th>3</th>\n",
       "      <td>47</td>\n",
       "      <td>blue-collar</td>\n",
       "      <td>married</td>\n",
       "      <td>unknown</td>\n",
       "      <td>no</td>\n",
       "      <td>1506</td>\n",
       "      <td>yes</td>\n",
       "      <td>no</td>\n",
       "      <td>unknown</td>\n",
       "      <td>5</td>\n",
       "      <td>may</td>\n",
       "      <td>92</td>\n",
       "      <td>1</td>\n",
       "      <td>-1</td>\n",
       "      <td>0</td>\n",
       "      <td>unknown</td>\n",
       "      <td>no</td>\n",
       "      <td>Middle Aged(46-60)</td>\n",
       "    </tr>\n",
       "    <tr>\n",
       "      <th>4</th>\n",
       "      <td>33</td>\n",
       "      <td>unknown</td>\n",
       "      <td>single</td>\n",
       "      <td>unknown</td>\n",
       "      <td>no</td>\n",
       "      <td>1</td>\n",
       "      <td>no</td>\n",
       "      <td>no</td>\n",
       "      <td>unknown</td>\n",
       "      <td>5</td>\n",
       "      <td>may</td>\n",
       "      <td>198</td>\n",
       "      <td>1</td>\n",
       "      <td>-1</td>\n",
       "      <td>0</td>\n",
       "      <td>unknown</td>\n",
       "      <td>no</td>\n",
       "      <td>Adults(31-45)</td>\n",
       "    </tr>\n",
       "  </tbody>\n",
       "</table>\n",
       "</div>"
      ],
      "text/plain": [
       "   age           job  marital  education default  balance housing loan  \\\n",
       "0   58    management  married   tertiary      no     2143     yes   no   \n",
       "1   44    technician   single  secondary      no       29     yes   no   \n",
       "2   33  entrepreneur  married  secondary      no        2     yes  yes   \n",
       "3   47   blue-collar  married    unknown      no     1506     yes   no   \n",
       "4   33       unknown   single    unknown      no        1      no   no   \n",
       "\n",
       "   contact  day_of_week month  duration  campaign  pdays  previous poutcome  \\\n",
       "0  unknown            5   may       261         1     -1         0  unknown   \n",
       "1  unknown            5   may       151         1     -1         0  unknown   \n",
       "2  unknown            5   may        76         1     -1         0  unknown   \n",
       "3  unknown            5   may        92         1     -1         0  unknown   \n",
       "4  unknown            5   may       198         1     -1         0  unknown   \n",
       "\n",
       "    y           age_group  \n",
       "0  no  Middle Aged(46-60)  \n",
       "1  no       Adults(31-45)  \n",
       "2  no       Adults(31-45)  \n",
       "3  no  Middle Aged(46-60)  \n",
       "4  no       Adults(31-45)  "
      ]
     },
     "metadata": {},
     "output_type": "display_data"
    }
   ],
   "source": [
    "# Creating age bins\n",
    "bins = [0, 18, 30, 45, 60, 100]\n",
    "labels = ['Children(0-17)', 'Young Adults(18-30)', 'Adults(31-45)', 'Middle Aged(46-60)', 'Elderly(60+)']\n",
    "data['age_group'] = pd.cut(data['age'], bins=bins, labels=labels, right=False)\n",
    "display(data.head())"
   ]
  },
  {
   "cell_type": "markdown",
   "id": "56922363",
   "metadata": {},
   "source": [
    "**How Long did the calls last?**"
   ]
  },
  {
   "cell_type": "code",
   "execution_count": 43,
   "id": "490ba4d4",
   "metadata": {},
   "outputs": [
    {
     "data": {
      "image/png": "[encoded data removed]",
      "text/plain": [
       "<Figure size 1200x700 with 1 Axes>"
      ]
     },
     "metadata": {},
     "output_type": "display_data"
    }
   ],
   "source": [
    "# Create bins for duration\n",
    "bins = [0,60, 300, 900, 3600, 4900]\n",
    "labels = ['Very Short (0-1 min)', 'Short (1-5 min)', 'Medium (5-15 min)', 'Long (15-60 min)', 'Very Long (60+ min)']\n",
    "data['duration_group'] = pd.cut(data['duration'], bins=bins, labels=labels, right=False)\n",
    "\n",
    "# Visualizing the distribution of call duration groups based on subscription outcome\n",
    "duration_y_counts = data.groupby(['duration_group', 'y']).size().unstack()\n",
    "\n",
    "duration_y_counts.plot(kind='bar', stacked=False, figsize=(12, 7))\n",
    "\n",
    "plt.title('Call Duration Distribution by Subscription Outcome')\n",
    "plt.xlabel('Duration Group')\n",
    "plt.ylabel('Number of Calls')\n",
    "plt.xticks(rotation=45)\n",
    "plt.legend(title='Subscribed')\n",
    "plt.show()"
   ]
  },
  {
   "cell_type": "markdown",
   "id": "8b458c9e",
   "metadata": {},
   "source": [
    "**Insights:**\n",
    "- Calls that lasted less than 1 min had no customer that subscribed to the term deposit.\n",
    "- The majority of calls lasted between 1 to 5 minutes, with a significant portion of these customers subscribing.\n",
    "- Longer calls (15-60 min) had a higher proportion of subscriptions compared to shorter calls.\n",
    "- Call duration appears to be a key factor in determining subscription likelihood. "
   ]
  },
  {
   "cell_type": "code",
   "execution_count": 44,
   "id": "cc5fa45a",
   "metadata": {},
   "outputs": [],
   "source": [
    "# Save the cleaned data\n",
    "data.to_csv('Data/cleaned_bank_data.csv', index=False)"
   ]
  }
 ],
 "metadata": {
  "kernelspec": {
   "display_name": "Python 3",
   "language": "python",
   "name": "python3"
  },
  "language_info": {
   "codemirror_mode": {
    "name": "ipython",
    "version": 3
   },
   "file_extension": ".py",
   "mimetype": "text/x-python",
   "name": "python",
   "nbconvert_exporter": "python",
   "pygments_lexer": "ipython3",
   "version": "3.13.5"
  }
 },
 "nbformat": 4,
 "nbformat_minor": 5
}
